{
 "cells": [
  {
   "attachments": {},
   "cell_type": "markdown",
   "metadata": {},
   "source": [
    "# Some testing"
   ]
  },
  {
   "attachments": {},
   "cell_type": "markdown",
   "metadata": {},
   "source": [
    "Load data"
   ]
  },
  {
   "cell_type": "code",
   "execution_count": 1,
   "metadata": {},
   "outputs": [],
   "source": [
    "import pandas as pd\n",
    "\n",
    "# Load df from csv\n",
    "raw_data = pd.read_csv(\"data/train.csv\")\n",
    "\n",
    "selected_cols = [\"property_max_guests\", \n",
    "                 \"property_bathrooms\", \n",
    "                 \"property_bedrooms\", \n",
    "                 \"property_beds\", \n",
    "                 \"host_response_rate\", \n",
    "                 \"host_nr_listings\",\n",
    "                 \"host_nr_listings_total\",\n",
    "                 \"booking_price_covers\",\n",
    "                 \"booking_min_nights\",\n",
    "                 \"booking_availability_30\",\n",
    "                 \"booking_availability_60\",\n",
    "                 \"booking_availability_90\",\n",
    "                 \"booking_availability_365\",\n",
    "                 \"reviews_rating\",\n",
    "                 \"reviews_acc\",\n",
    "                 \"reviews_cleanliness\",\n",
    "                 \"reviews_checkin\",\n",
    "                 \"reviews_communication\",\n",
    "                 \"reviews_location\",\n",
    "                 \"reviews_value\",\n",
    "                 \"reviews_per_month\"]\n",
    "\n",
    "# Filter df to only include a selection of cols\n",
    "X = raw_data[selected_cols]\n",
    "y = raw_data[\"target\"]"
   ]
  },
  {
   "attachments": {},
   "cell_type": "markdown",
   "metadata": {},
   "source": [
    "## Cleaning here\n",
    "(VERY ROUGH)"
   ]
  },
  {
   "cell_type": "code",
   "execution_count": 2,
   "metadata": {},
   "outputs": [
    {
     "name": "stdout",
     "output_type": "stream",
     "text": [
      "property_max_guests         0\n",
      "property_bathrooms          0\n",
      "property_bedrooms           0\n",
      "property_beds               0\n",
      "host_response_rate          0\n",
      "host_nr_listings            0\n",
      "host_nr_listings_total      0\n",
      "booking_price_covers        0\n",
      "booking_min_nights          0\n",
      "booking_availability_30     0\n",
      "booking_availability_60     0\n",
      "booking_availability_90     0\n",
      "booking_availability_365    0\n",
      "reviews_rating              0\n",
      "reviews_acc                 0\n",
      "reviews_cleanliness         0\n",
      "reviews_checkin             0\n",
      "reviews_communication       0\n",
      "reviews_location            0\n",
      "reviews_value               0\n",
      "reviews_per_month           0\n",
      "dtype: int64\n"
     ]
    },
    {
     "name": "stderr",
     "output_type": "stream",
     "text": [
      "C:\\Users\\amarm\\AppData\\Local\\Temp\\ipykernel_6296\\3717280874.py:2: SettingWithCopyWarning: \n",
      "A value is trying to be set on a copy of a slice from a DataFrame.\n",
      "Try using .loc[row_indexer,col_indexer] = value instead\n",
      "\n",
      "See the caveats in the documentation: https://pandas.pydata.org/pandas-docs/stable/user_guide/indexing.html#returning-a-view-versus-a-copy\n",
      "  X.iloc[:, :].fillna(X.iloc[:, :].median(), inplace = True)\n"
     ]
    },
    {
     "data": {
      "text/plain": [
       "(6495, 21)"
      ]
     },
     "execution_count": 2,
     "metadata": {},
     "output_type": "execute_result"
    }
   ],
   "source": [
    "# Impute median for missing (check warning)\n",
    "X.iloc[:, :].fillna(X.iloc[:, :].median(), inplace = True)\n",
    "\n",
    "# 0 NA left\n",
    "print(X.isnull().sum())\n",
    "\n",
    "# Shape still the same\n",
    "X.shape"
   ]
  },
  {
   "attachments": {},
   "cell_type": "markdown",
   "metadata": {},
   "source": [
    "### Descriptives\n"
   ]
  },
  {
   "cell_type": "code",
   "execution_count": 3,
   "metadata": {},
   "outputs": [
    {
     "data": {
      "text/html": [
       "<div>\n",
       "<style scoped>\n",
       "    .dataframe tbody tr th:only-of-type {\n",
       "        vertical-align: middle;\n",
       "    }\n",
       "\n",
       "    .dataframe tbody tr th {\n",
       "        vertical-align: top;\n",
       "    }\n",
       "\n",
       "    .dataframe thead th {\n",
       "        text-align: right;\n",
       "    }\n",
       "</style>\n",
       "<table border=\"1\" class=\"dataframe\">\n",
       "  <thead>\n",
       "    <tr style=\"text-align: right;\">\n",
       "      <th></th>\n",
       "      <th>property_max_guests</th>\n",
       "      <th>property_bathrooms</th>\n",
       "      <th>property_bedrooms</th>\n",
       "      <th>property_beds</th>\n",
       "      <th>host_response_rate</th>\n",
       "      <th>host_nr_listings</th>\n",
       "      <th>host_nr_listings_total</th>\n",
       "      <th>booking_price_covers</th>\n",
       "      <th>booking_min_nights</th>\n",
       "      <th>booking_availability_30</th>\n",
       "      <th>...</th>\n",
       "      <th>booking_availability_90</th>\n",
       "      <th>booking_availability_365</th>\n",
       "      <th>reviews_rating</th>\n",
       "      <th>reviews_acc</th>\n",
       "      <th>reviews_cleanliness</th>\n",
       "      <th>reviews_checkin</th>\n",
       "      <th>reviews_communication</th>\n",
       "      <th>reviews_location</th>\n",
       "      <th>reviews_value</th>\n",
       "      <th>reviews_per_month</th>\n",
       "    </tr>\n",
       "  </thead>\n",
       "  <tbody>\n",
       "    <tr>\n",
       "      <th>count</th>\n",
       "      <td>6495.000000</td>\n",
       "      <td>6495.000000</td>\n",
       "      <td>6495.000000</td>\n",
       "      <td>6495.000000</td>\n",
       "      <td>6495.000000</td>\n",
       "      <td>6495.000000</td>\n",
       "      <td>6495.000000</td>\n",
       "      <td>6495.000000</td>\n",
       "      <td>6495.000000</td>\n",
       "      <td>6495.000000</td>\n",
       "      <td>...</td>\n",
       "      <td>6495.000000</td>\n",
       "      <td>6495.000000</td>\n",
       "      <td>6495.000000</td>\n",
       "      <td>6495.000000</td>\n",
       "      <td>6495.000000</td>\n",
       "      <td>6495.000000</td>\n",
       "      <td>6495.000000</td>\n",
       "      <td>6495.000000</td>\n",
       "      <td>6495.000000</td>\n",
       "      <td>6495.000000</td>\n",
       "    </tr>\n",
       "    <tr>\n",
       "      <th>mean</th>\n",
       "      <td>2.999076</td>\n",
       "      <td>1.141032</td>\n",
       "      <td>1.205697</td>\n",
       "      <td>1.741493</td>\n",
       "      <td>93.847267</td>\n",
       "      <td>6.095150</td>\n",
       "      <td>6.095150</td>\n",
       "      <td>1.432333</td>\n",
       "      <td>3.531948</td>\n",
       "      <td>9.410931</td>\n",
       "      <td>...</td>\n",
       "      <td>38.404311</td>\n",
       "      <td>171.840339</td>\n",
       "      <td>91.971209</td>\n",
       "      <td>9.583680</td>\n",
       "      <td>9.381216</td>\n",
       "      <td>9.693303</td>\n",
       "      <td>9.702694</td>\n",
       "      <td>9.189222</td>\n",
       "      <td>9.192918</td>\n",
       "      <td>1.517219</td>\n",
       "    </tr>\n",
       "    <tr>\n",
       "      <th>std</th>\n",
       "      <td>1.778460</td>\n",
       "      <td>0.455912</td>\n",
       "      <td>0.750032</td>\n",
       "      <td>1.338870</td>\n",
       "      <td>17.451859</td>\n",
       "      <td>36.863287</td>\n",
       "      <td>36.863287</td>\n",
       "      <td>0.965370</td>\n",
       "      <td>16.569408</td>\n",
       "      <td>10.539133</td>\n",
       "      <td>...</td>\n",
       "      <td>33.139699</td>\n",
       "      <td>141.683736</td>\n",
       "      <td>8.001921</td>\n",
       "      <td>0.804234</td>\n",
       "      <td>1.026752</td>\n",
       "      <td>0.735088</td>\n",
       "      <td>0.729182</td>\n",
       "      <td>0.801182</td>\n",
       "      <td>0.832367</td>\n",
       "      <td>1.809195</td>\n",
       "    </tr>\n",
       "    <tr>\n",
       "      <th>min</th>\n",
       "      <td>1.000000</td>\n",
       "      <td>0.000000</td>\n",
       "      <td>0.000000</td>\n",
       "      <td>1.000000</td>\n",
       "      <td>0.000000</td>\n",
       "      <td>0.000000</td>\n",
       "      <td>0.000000</td>\n",
       "      <td>1.000000</td>\n",
       "      <td>1.000000</td>\n",
       "      <td>0.000000</td>\n",
       "      <td>...</td>\n",
       "      <td>0.000000</td>\n",
       "      <td>0.000000</td>\n",
       "      <td>20.000000</td>\n",
       "      <td>2.000000</td>\n",
       "      <td>2.000000</td>\n",
       "      <td>2.000000</td>\n",
       "      <td>2.000000</td>\n",
       "      <td>2.000000</td>\n",
       "      <td>2.000000</td>\n",
       "      <td>0.010000</td>\n",
       "    </tr>\n",
       "    <tr>\n",
       "      <th>25%</th>\n",
       "      <td>2.000000</td>\n",
       "      <td>1.000000</td>\n",
       "      <td>1.000000</td>\n",
       "      <td>1.000000</td>\n",
       "      <td>100.000000</td>\n",
       "      <td>1.000000</td>\n",
       "      <td>1.000000</td>\n",
       "      <td>1.000000</td>\n",
       "      <td>1.000000</td>\n",
       "      <td>0.000000</td>\n",
       "      <td>...</td>\n",
       "      <td>0.000000</td>\n",
       "      <td>16.000000</td>\n",
       "      <td>90.000000</td>\n",
       "      <td>9.000000</td>\n",
       "      <td>9.000000</td>\n",
       "      <td>10.000000</td>\n",
       "      <td>10.000000</td>\n",
       "      <td>9.000000</td>\n",
       "      <td>9.000000</td>\n",
       "      <td>0.420000</td>\n",
       "    </tr>\n",
       "    <tr>\n",
       "      <th>50%</th>\n",
       "      <td>2.000000</td>\n",
       "      <td>1.000000</td>\n",
       "      <td>1.000000</td>\n",
       "      <td>1.000000</td>\n",
       "      <td>100.000000</td>\n",
       "      <td>1.000000</td>\n",
       "      <td>1.000000</td>\n",
       "      <td>1.000000</td>\n",
       "      <td>2.000000</td>\n",
       "      <td>5.000000</td>\n",
       "      <td>...</td>\n",
       "      <td>37.000000</td>\n",
       "      <td>153.000000</td>\n",
       "      <td>93.000000</td>\n",
       "      <td>10.000000</td>\n",
       "      <td>10.000000</td>\n",
       "      <td>10.000000</td>\n",
       "      <td>10.000000</td>\n",
       "      <td>9.000000</td>\n",
       "      <td>9.000000</td>\n",
       "      <td>0.910000</td>\n",
       "    </tr>\n",
       "    <tr>\n",
       "      <th>75%</th>\n",
       "      <td>4.000000</td>\n",
       "      <td>1.000000</td>\n",
       "      <td>1.000000</td>\n",
       "      <td>2.000000</td>\n",
       "      <td>100.000000</td>\n",
       "      <td>2.000000</td>\n",
       "      <td>2.000000</td>\n",
       "      <td>2.000000</td>\n",
       "      <td>3.000000</td>\n",
       "      <td>17.000000</td>\n",
       "      <td>...</td>\n",
       "      <td>69.000000</td>\n",
       "      <td>321.000000</td>\n",
       "      <td>97.000000</td>\n",
       "      <td>10.000000</td>\n",
       "      <td>10.000000</td>\n",
       "      <td>10.000000</td>\n",
       "      <td>10.000000</td>\n",
       "      <td>10.000000</td>\n",
       "      <td>10.000000</td>\n",
       "      <td>1.790000</td>\n",
       "    </tr>\n",
       "    <tr>\n",
       "      <th>max</th>\n",
       "      <td>16.000000</td>\n",
       "      <td>8.000000</td>\n",
       "      <td>8.000000</td>\n",
       "      <td>16.000000</td>\n",
       "      <td>100.000000</td>\n",
       "      <td>591.000000</td>\n",
       "      <td>591.000000</td>\n",
       "      <td>16.000000</td>\n",
       "      <td>1000.000000</td>\n",
       "      <td>30.000000</td>\n",
       "      <td>...</td>\n",
       "      <td>90.000000</td>\n",
       "      <td>365.000000</td>\n",
       "      <td>100.000000</td>\n",
       "      <td>10.000000</td>\n",
       "      <td>10.000000</td>\n",
       "      <td>10.000000</td>\n",
       "      <td>10.000000</td>\n",
       "      <td>10.000000</td>\n",
       "      <td>10.000000</td>\n",
       "      <td>19.900000</td>\n",
       "    </tr>\n",
       "  </tbody>\n",
       "</table>\n",
       "<p>8 rows × 21 columns</p>\n",
       "</div>"
      ],
      "text/plain": [
       "       property_max_guests  property_bathrooms  property_bedrooms  \\\n",
       "count          6495.000000         6495.000000        6495.000000   \n",
       "mean              2.999076            1.141032           1.205697   \n",
       "std               1.778460            0.455912           0.750032   \n",
       "min               1.000000            0.000000           0.000000   \n",
       "25%               2.000000            1.000000           1.000000   \n",
       "50%               2.000000            1.000000           1.000000   \n",
       "75%               4.000000            1.000000           1.000000   \n",
       "max              16.000000            8.000000           8.000000   \n",
       "\n",
       "       property_beds  host_response_rate  host_nr_listings  \\\n",
       "count    6495.000000         6495.000000       6495.000000   \n",
       "mean        1.741493           93.847267          6.095150   \n",
       "std         1.338870           17.451859         36.863287   \n",
       "min         1.000000            0.000000          0.000000   \n",
       "25%         1.000000          100.000000          1.000000   \n",
       "50%         1.000000          100.000000          1.000000   \n",
       "75%         2.000000          100.000000          2.000000   \n",
       "max        16.000000          100.000000        591.000000   \n",
       "\n",
       "       host_nr_listings_total  booking_price_covers  booking_min_nights  \\\n",
       "count             6495.000000           6495.000000         6495.000000   \n",
       "mean                 6.095150              1.432333            3.531948   \n",
       "std                 36.863287              0.965370           16.569408   \n",
       "min                  0.000000              1.000000            1.000000   \n",
       "25%                  1.000000              1.000000            1.000000   \n",
       "50%                  1.000000              1.000000            2.000000   \n",
       "75%                  2.000000              2.000000            3.000000   \n",
       "max                591.000000             16.000000         1000.000000   \n",
       "\n",
       "       booking_availability_30  ...  booking_availability_90  \\\n",
       "count              6495.000000  ...              6495.000000   \n",
       "mean                  9.410931  ...                38.404311   \n",
       "std                  10.539133  ...                33.139699   \n",
       "min                   0.000000  ...                 0.000000   \n",
       "25%                   0.000000  ...                 0.000000   \n",
       "50%                   5.000000  ...                37.000000   \n",
       "75%                  17.000000  ...                69.000000   \n",
       "max                  30.000000  ...                90.000000   \n",
       "\n",
       "       booking_availability_365  reviews_rating  reviews_acc  \\\n",
       "count               6495.000000     6495.000000  6495.000000   \n",
       "mean                 171.840339       91.971209     9.583680   \n",
       "std                  141.683736        8.001921     0.804234   \n",
       "min                    0.000000       20.000000     2.000000   \n",
       "25%                   16.000000       90.000000     9.000000   \n",
       "50%                  153.000000       93.000000    10.000000   \n",
       "75%                  321.000000       97.000000    10.000000   \n",
       "max                  365.000000      100.000000    10.000000   \n",
       "\n",
       "       reviews_cleanliness  reviews_checkin  reviews_communication  \\\n",
       "count          6495.000000      6495.000000            6495.000000   \n",
       "mean              9.381216         9.693303               9.702694   \n",
       "std               1.026752         0.735088               0.729182   \n",
       "min               2.000000         2.000000               2.000000   \n",
       "25%               9.000000        10.000000              10.000000   \n",
       "50%              10.000000        10.000000              10.000000   \n",
       "75%              10.000000        10.000000              10.000000   \n",
       "max              10.000000        10.000000              10.000000   \n",
       "\n",
       "       reviews_location  reviews_value  reviews_per_month  \n",
       "count       6495.000000    6495.000000        6495.000000  \n",
       "mean           9.189222       9.192918           1.517219  \n",
       "std            0.801182       0.832367           1.809195  \n",
       "min            2.000000       2.000000           0.010000  \n",
       "25%            9.000000       9.000000           0.420000  \n",
       "50%            9.000000       9.000000           0.910000  \n",
       "75%           10.000000      10.000000           1.790000  \n",
       "max           10.000000      10.000000          19.900000  \n",
       "\n",
       "[8 rows x 21 columns]"
      ]
     },
     "execution_count": 3,
     "metadata": {},
     "output_type": "execute_result"
    }
   ],
   "source": [
    "# Simple descriptive stats\n",
    "y.describe()\n",
    "X.describe()"
   ]
  },
  {
   "cell_type": "code",
   "execution_count": 5,
   "metadata": {},
   "outputs": [
    {
     "data": {
      "text/plain": [
       "<Axes: ylabel='Density'>"
      ]
     },
     "execution_count": 5,
     "metadata": {},
     "output_type": "execute_result"
    },
    {
     "data": {
      "image/png": "[encoded data removed]",
      "text/plain": [
       "<Figure size 640x480 with 1 Axes>"
      ]
     },
     "metadata": {},
     "output_type": "display_data"
    }
   ],
   "source": [
    "from sklearn import preprocessing\n",
    "import seaborn as sns\n",
    "import matplotlib.pyplot as plt\n",
    "\n",
    "# Normalize and standardize predictors\n",
    "nrm_X = preprocessing.normalize(X)\n",
    "std_X1 = preprocessing.scale(X)\n",
    "std_X = preprocessing.scale(nrm_X)\n",
    "\n",
    "# Note: orange = scaled, blue = scaled+normalized\n",
    "sns.kdeplot(std_X[:, 0])\n",
    "sns.kdeplot(std_X1[:, 0])"
   ]
  },
  {
   "cell_type": "code",
   "execution_count": 19,
   "metadata": {},
   "outputs": [
    {
     "data": {
      "image/png": "[encoded data removed]",
      "text/plain": [
       "<Figure size 640x480 with 1 Axes>"
      ]
     },
     "metadata": {},
     "output_type": "display_data"
    },
    {
     "data": {
      "image/png": "[encoded data removed]",
      "text/plain": [
       "<Figure size 640x480 with 1 Axes>"
      ]
     },
     "metadata": {},
     "output_type": "display_data"
    }
   ],
   "source": [
    "import numpy as np\n",
    "\n",
    "# Plot target distribution\n",
    "sns.kdeplot(y, fill = True)\n",
    "plt.show()\n",
    "\n",
    "# Log transform\n",
    "y_log = np.log1p(y)\n",
    "sns.kdeplot(y_log, fill = True)\n",
    "plt.show()\n"
   ]
  },
  {
   "attachments": {},
   "cell_type": "markdown",
   "metadata": {},
   "source": [
    "### Visualizing relations"
   ]
  },
  {
   "cell_type": "code",
   "execution_count": 20,
   "metadata": {},
   "outputs": [],
   "source": [
    "# ..."
   ]
  },
  {
   "attachments": {},
   "cell_type": "markdown",
   "metadata": {},
   "source": [
    "## XGBoost"
   ]
  },
  {
   "attachments": {},
   "cell_type": "markdown",
   "metadata": {},
   "source": [
    "First split train & test (ignore test.csv for now)"
   ]
  },
  {
   "cell_type": "code",
   "execution_count": 21,
   "metadata": {},
   "outputs": [],
   "source": [
    "from sklearn.model_selection import train_test_split\n",
    "\n",
    "X_train, X_test, y_train, y_test = train_test_split(std_X, y_log, test_size=0.2)"
   ]
  },
  {
   "attachments": {},
   "cell_type": "markdown",
   "metadata": {},
   "source": [
    "Fit XGBoost model"
   ]
  },
  {
   "cell_type": "code",
   "execution_count": 22,
   "metadata": {},
   "outputs": [
    {
     "data": {
      "text/html": [
       "<style>#sk-container-id-1 {color: black;background-color: white;}#sk-container-id-1 pre{padding: 0;}#sk-container-id-1 div.sk-toggleable {background-color: white;}#sk-container-id-1 label.sk-toggleable__label {cursor: pointer;display: block;width: 100%;margin-bottom: 0;padding: 0.3em;box-sizing: border-box;text-align: center;}#sk-container-id-1 label.sk-toggleable__label-arrow:before {content: \"▸\";float: left;margin-right: 0.25em;color: #696969;}#sk-container-id-1 label.sk-toggleable__label-arrow:hover:before {color: black;}#sk-container-id-1 div.sk-estimator:hover label.sk-toggleable__label-arrow:before {color: black;}#sk-container-id-1 div.sk-toggleable__content {max-height: 0;max-width: 0;overflow: hidden;text-align: left;background-color: #f0f8ff;}#sk-container-id-1 div.sk-toggleable__content pre {margin: 0.2em;color: black;border-radius: 0.25em;background-color: #f0f8ff;}#sk-container-id-1 input.sk-toggleable__control:checked~div.sk-toggleable__content {max-height: 200px;max-width: 100%;overflow: auto;}#sk-container-id-1 input.sk-toggleable__control:checked~label.sk-toggleable__label-arrow:before {content: \"▾\";}#sk-container-id-1 div.sk-estimator input.sk-toggleable__control:checked~label.sk-toggleable__label {background-color: #d4ebff;}#sk-container-id-1 div.sk-label input.sk-toggleable__control:checked~label.sk-toggleable__label {background-color: #d4ebff;}#sk-container-id-1 input.sk-hidden--visually {border: 0;clip: rect(1px 1px 1px 1px);clip: rect(1px, 1px, 1px, 1px);height: 1px;margin: -1px;overflow: hidden;padding: 0;position: absolute;width: 1px;}#sk-container-id-1 div.sk-estimator {font-family: monospace;background-color: #f0f8ff;border: 1px dotted black;border-radius: 0.25em;box-sizing: border-box;margin-bottom: 0.5em;}#sk-container-id-1 div.sk-estimator:hover {background-color: #d4ebff;}#sk-container-id-1 div.sk-parallel-item::after {content: \"\";width: 100%;border-bottom: 1px solid gray;flex-grow: 1;}#sk-container-id-1 div.sk-label:hover label.sk-toggleable__label {background-color: #d4ebff;}#sk-container-id-1 div.sk-serial::before {content: \"\";position: absolute;border-left: 1px solid gray;box-sizing: border-box;top: 0;bottom: 0;left: 50%;z-index: 0;}#sk-container-id-1 div.sk-serial {display: flex;flex-direction: column;align-items: center;background-color: white;padding-right: 0.2em;padding-left: 0.2em;position: relative;}#sk-container-id-1 div.sk-item {position: relative;z-index: 1;}#sk-container-id-1 div.sk-parallel {display: flex;align-items: stretch;justify-content: center;background-color: white;position: relative;}#sk-container-id-1 div.sk-item::before, #sk-container-id-1 div.sk-parallel-item::before {content: \"\";position: absolute;border-left: 1px solid gray;box-sizing: border-box;top: 0;bottom: 0;left: 50%;z-index: -1;}#sk-container-id-1 div.sk-parallel-item {display: flex;flex-direction: column;z-index: 1;position: relative;background-color: white;}#sk-container-id-1 div.sk-parallel-item:first-child::after {align-self: flex-end;width: 50%;}#sk-container-id-1 div.sk-parallel-item:last-child::after {align-self: flex-start;width: 50%;}#sk-container-id-1 div.sk-parallel-item:only-child::after {width: 0;}#sk-container-id-1 div.sk-dashed-wrapped {border: 1px dashed gray;margin: 0 0.4em 0.5em 0.4em;box-sizing: border-box;padding-bottom: 0.4em;background-color: white;}#sk-container-id-1 div.sk-label label {font-family: monospace;font-weight: bold;display: inline-block;line-height: 1.2em;}#sk-container-id-1 div.sk-label-container {text-align: center;}#sk-container-id-1 div.sk-container {/* jupyter's `normalize.less` sets `[hidden] { display: none; }` but bootstrap.min.css set `[hidden] { display: none !important; }` so we also need the `!important` here to be able to override the default hidden behavior on the sphinx rendered scikit-learn.org. See: https://github.com/scikit-learn/scikit-learn/issues/21755 */display: inline-block !important;position: relative;}#sk-container-id-1 div.sk-text-repr-fallback {display: none;}</style><div id=\"sk-container-id-1\" class=\"sk-top-container\"><div class=\"sk-text-repr-fallback\"><pre>XGBRegressor(base_score=None, booster=None, callbacks=None,\n",
       "             colsample_bylevel=None, colsample_bynode=None,\n",
       "             colsample_bytree=None, early_stopping_rounds=None,\n",
       "             enable_categorical=False, eval_metric=None, feature_types=None,\n",
       "             gamma=None, gpu_id=None, grow_policy=None, importance_type=None,\n",
       "             interaction_constraints=None, learning_rate=None, max_bin=None,\n",
       "             max_cat_threshold=None, max_cat_to_onehot=None,\n",
       "             max_delta_step=None, max_depth=None, max_leaves=None,\n",
       "             min_child_weight=None, missing=nan, monotone_constraints=None,\n",
       "             n_estimators=100, n_jobs=None, num_parallel_tree=None,\n",
       "             predictor=None, random_state=None, ...)</pre><b>In a Jupyter environment, please rerun this cell to show the HTML representation or trust the notebook. <br />On GitHub, the HTML representation is unable to render, please try loading this page with nbviewer.org.</b></div><div class=\"sk-container\" hidden><div class=\"sk-item\"><div class=\"sk-estimator sk-toggleable\"><input class=\"sk-toggleable__control sk-hidden--visually\" id=\"sk-estimator-id-1\" type=\"checkbox\" checked><label for=\"sk-estimator-id-1\" class=\"sk-toggleable__label sk-toggleable__label-arrow\">XGBRegressor</label><div class=\"sk-toggleable__content\"><pre>XGBRegressor(base_score=None, booster=None, callbacks=None,\n",
       "             colsample_bylevel=None, colsample_bynode=None,\n",
       "             colsample_bytree=None, early_stopping_rounds=None,\n",
       "             enable_categorical=False, eval_metric=None, feature_types=None,\n",
       "             gamma=None, gpu_id=None, grow_policy=None, importance_type=None,\n",
       "             interaction_constraints=None, learning_rate=None, max_bin=None,\n",
       "             max_cat_threshold=None, max_cat_to_onehot=None,\n",
       "             max_delta_step=None, max_depth=None, max_leaves=None,\n",
       "             min_child_weight=None, missing=nan, monotone_constraints=None,\n",
       "             n_estimators=100, n_jobs=None, num_parallel_tree=None,\n",
       "             predictor=None, random_state=None, ...)</pre></div></div></div></div></div>"
      ],
      "text/plain": [
       "XGBRegressor(base_score=None, booster=None, callbacks=None,\n",
       "             colsample_bylevel=None, colsample_bynode=None,\n",
       "             colsample_bytree=None, early_stopping_rounds=None,\n",
       "             enable_categorical=False, eval_metric=None, feature_types=None,\n",
       "             gamma=None, gpu_id=None, grow_policy=None, importance_type=None,\n",
       "             interaction_constraints=None, learning_rate=None, max_bin=None,\n",
       "             max_cat_threshold=None, max_cat_to_onehot=None,\n",
       "             max_delta_step=None, max_depth=None, max_leaves=None,\n",
       "             min_child_weight=None, missing=nan, monotone_constraints=None,\n",
       "             n_estimators=100, n_jobs=None, num_parallel_tree=None,\n",
       "             predictor=None, random_state=None, ...)"
      ]
     },
     "execution_count": 22,
     "metadata": {},
     "output_type": "execute_result"
    }
   ],
   "source": [
    "import xgboost as xgb\n",
    "\n",
    "model = xgb.XGBRegressor(objective=\"reg:squarederror\")\n",
    "model.fit(X_train, y_train)"
   ]
  },
  {
   "attachments": {},
   "cell_type": "markdown",
   "metadata": {},
   "source": [
    "Predict test set and evaluate model"
   ]
  },
  {
   "cell_type": "code",
   "execution_count": 23,
   "metadata": {},
   "outputs": [],
   "source": [
    "preds = model.predict(X_test)"
   ]
  },
  {
   "cell_type": "code",
   "execution_count": 25,
   "metadata": {},
   "outputs": [
    {
     "name": "stdout",
     "output_type": "stream",
     "text": [
      "0.338673480725442\n"
     ]
    }
   ],
   "source": [
    "from sklearn.metrics import mean_squared_error\n",
    "rmse = np.sqrt(mean_squared_error(y_test, preds))\n",
    "\n",
    "print(rmse)"
   ]
  }
 ],
 "metadata": {
  "kernelspec": {
   "display_name": ".venv",
   "language": "python",
   "name": "python3"
  },
  "language_info": {
   "codemirror_mode": {
    "name": "ipython",
    "version": 3
   },
   "file_extension": ".py",
   "mimetype": "text/x-python",
   "name": "python",
   "nbconvert_exporter": "python",
   "pygments_lexer": "ipython3",
   "version": "3.10.6"
  },
  "orig_nbformat": 4
 },
 "nbformat": 4,
 "nbformat_minor": 2
}
