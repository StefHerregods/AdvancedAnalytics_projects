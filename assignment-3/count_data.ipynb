{
 "cells": [
  {
   "cell_type": "code",
   "execution_count": 4,
   "metadata": {},
   "outputs": [],
   "source": [
    "import os\n",
    "\n",
    "folder_path = 'C:/Users/herre/Documents/Spark_test'"
   ]
  },
  {
   "cell_type": "code",
   "execution_count": 14,
   "metadata": {},
   "outputs": [
    {
     "name": "stdout",
     "output_type": "stream",
     "text": [
      "C:/Users/herre/Documents/Spark_test\\Data-1682435260000\n",
      "C:/Users/herre/Documents/Spark_test\\Data-1682435280000\n",
      "C:/Users/herre/Documents/Spark_test\\Data-1682435320000\n",
      "C:/Users/herre/Documents/Spark_test\\Data-1682435340000\n",
      "C:/Users/herre/Documents/Spark_test\\Data-1682435360000\n",
      "C:/Users/herre/Documents/Spark_test\\Data-1682435420000\n",
      "C:/Users/herre/Documents/Spark_test\\Data-1682435440000\n",
      "C:/Users/herre/Documents/Spark_test\\Data-1682435460000\n",
      "C:/Users/herre/Documents/Spark_test\\Data-1682435500000\n",
      "C:/Users/herre/Documents/Spark_test\\Data-1682435520000\n",
      "C:/Users/herre/Documents/Spark_test\\Data-1682435580000\n",
      "C:/Users/herre/Documents/Spark_test\\Data-1682435600000\n",
      "C:/Users/herre/Documents/Spark_test\\Data-1682435620000\n",
      "C:/Users/herre/Documents/Spark_test\\Data-1682435640000\n",
      "C:/Users/herre/Documents/Spark_test\\Data-1683209180000\n",
      "C:/Users/herre/Documents/Spark_test\\Data-1683209200000\n",
      "C:/Users/herre/Documents/Spark_test\\Data-1683209220000\n",
      "C:/Users/herre/Documents/Spark_test\\Data-1683209240000\n",
      "C:/Users/herre/Documents/Spark_test\\Data-1683209260000\n",
      "C:/Users/herre/Documents/Spark_test\\Data-1683209280000\n",
      "C:/Users/herre/Documents/Spark_test\\Data-1683209300000\n",
      "C:/Users/herre/Documents/Spark_test\\Data-1683209320000\n",
      "C:/Users/herre/Documents/Spark_test\\Data-1683209340000\n",
      "C:/Users/herre/Documents/Spark_test\\Data-1683209360000\n",
      "C:/Users/herre/Documents/Spark_test\\Data-1683209380000\n",
      "C:/Users/herre/Documents/Spark_test\\Data-1683209400000\n",
      "C:/Users/herre/Documents/Spark_test\\Data-1683305040000\n",
      "C:/Users/herre/Documents/Spark_test\\Data-1683305060000\n",
      "C:/Users/herre/Documents/Spark_test\\Data-1683305080000\n",
      "C:/Users/herre/Documents/Spark_test\\Data-1683305100000\n",
      "C:/Users/herre/Documents/Spark_test\\Data-1683305140000\n",
      "C:/Users/herre/Documents/Spark_test\\Data-1683305160000\n",
      "C:/Users/herre/Documents/Spark_test\\Data-1683305180000\n",
      "C:/Users/herre/Documents/Spark_test\\Data-1683305200000\n",
      "C:/Users/herre/Documents/Spark_test\\Data-1683305220000\n",
      "C:/Users/herre/Documents/Spark_test\\Data-1683305240000\n",
      "C:/Users/herre/Documents/Spark_test\\Data-1683308340000\n",
      "C:/Users/herre/Documents/Spark_test\\Data-1683308360000\n",
      "C:/Users/herre/Documents/Spark_test\\Data-1683308380000\n",
      "C:/Users/herre/Documents/Spark_test\\Data-1683308400000\n",
      "C:/Users/herre/Documents/Spark_test\\Data-1683308420000\n",
      "C:/Users/herre/Documents/Spark_test\\Data-1683308440000\n",
      "C:/Users/herre/Documents/Spark_test\\Data-1683308460000\n",
      "C:/Users/herre/Documents/Spark_test\\Data-1683308480000\n",
      "C:/Users/herre/Documents/Spark_test\\Data-1683308500000\n",
      "C:/Users/herre/Documents/Spark_test\\Data-1683308520000\n",
      "Total number of files starting with 'part-' found: 46\n"
     ]
    }
   ],
   "source": [
    "\n",
    "total_files = 0\n",
    "\n",
    "for foldername, subfolders, filenames in os.walk(folder_path):\n",
    "    for filename in filenames:\n",
    "        if filename.startswith(\"part-\"):\n",
    "            total_files += 1\n",
    "            break\n",
    "    else:\n",
    "        continue\n",
    "\n",
    "    print(foldername)\n",
    "        \n",
    "print(\"Total number of files starting with 'part-' found:\", total_files)\n"
   ]
  }
 ],
 "metadata": {
  "kernelspec": {
   "display_name": "AdvancedAnalytics_1",
   "language": "python",
   "name": "python3"
  },
  "language_info": {
   "codemirror_mode": {
    "name": "ipython",
    "version": 3
   },
   "file_extension": ".py",
   "mimetype": "text/x-python",
   "name": "python",
   "nbconvert_exporter": "python",
   "pygments_lexer": "ipython3",
   "version": "3.9.16"
  },
  "orig_nbformat": 4
 },
 "nbformat": 4,
 "nbformat_minor": 2
}
