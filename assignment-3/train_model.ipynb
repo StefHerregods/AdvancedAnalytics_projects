{
 "cells": [
  {
   "cell_type": "markdown",
   "id": "1534ee3b",
   "metadata": {},
   "source": [
    "## Load data and libraries"
   ]
  },
  {
   "cell_type": "code",
   "execution_count": 38,
   "id": "2895d6fa",
   "metadata": {
    "scrolled": false
   },
   "outputs": [
    {
     "name": "stderr",
     "output_type": "stream",
     "text": [
      "C:\\Users\\herre\\Desktop\\spark\\spark\\spark-3.3.2-bin-hadoop2\\python\\pyspark\\sql\\pandas\\conversion.py:474: FutureWarning: iteritems is deprecated and will be removed in a future version. Use .items instead.\n",
      "  for column, series in pdf.iteritems():\n",
      "C:\\Users\\herre\\Desktop\\spark\\spark\\spark-3.3.2-bin-hadoop2\\python\\pyspark\\sql\\pandas\\conversion.py:486: FutureWarning: iteritems is deprecated and will be removed in a future version. Use .items instead.\n",
      "  for column, series in pdf.iteritems():\n"
     ]
    },
    {
     "name": "stdout",
     "output_type": "stream",
     "text": [
      "+---------+-------+--------------------+-----+\n",
      "|review_id| app_id|         review_text|label|\n",
      "+---------+-------+--------------------+-----+\n",
      "|137272710|1679290|I need to praise ...|    0|\n",
      "|137272945|1663220|Long as I play to...|    1|\n",
      "|137274382|1816950|[h1]More interest...|    1|\n",
      "|137274860|2281730|   mw rip off  💀 \\n|    1|\n",
      "|137274157|2281730|Puede que sea una...|    1|\n",
      "|137273715|2281730|     cool mw clone\\n|    1|\n",
      "|137273443|2281730|                nice|    1|\n",
      "|137273157|2281730|Just bad. 3v3 TDM...|    0|\n",
      "|137272989|2281730|I'll just stick t...|    0|\n",
      "|137272642|2281730|Quickest way to h...|    1|\n",
      "|137273689|1860510|This game is very...|    0|\n",
      "|137273626|2181140|Hope's End is an ...|    1|\n",
      "|137272328|2181140|Fun tower defense...|    1|\n",
      "|137274560|1289340|I'm a bit surpris...|    1|\n",
      "|137274405|2327940|sound is not adju...|    0|\n",
      "|137274351|2327940|The game mechanic...|    1|\n",
      "|137273568|2327940|Very good gamepla...|    1|\n",
      "|137273988|2304990|This game is very...|    0|\n",
      "|137272937|2304990|A diverse choice ...|    1|\n",
      "|137275477| 986130|This game has goo...|    0|\n",
      "+---------+-------+--------------------+-----+\n",
      "only showing top 20 rows\n",
      "\n"
     ]
    }
   ],
   "source": [
    "import pandas as pd\n",
    "from pyspark.sql import SparkSession\n",
    "from pyspark.ml.feature import Tokenizer, CountVectorizer, IDF\n",
    "from pyspark.sql.functions import regexp_replace, lower\n",
    "import os\n",
    "from pyspark.ml.feature import HashingTF\n",
    "from pyspark.ml.classification import LogisticRegression\n",
    "from sklearn.metrics import accuracy_score\n",
    "from sklearn.metrics import confusion_matrix\n",
    "from sklearn.metrics import roc_curve, roc_auc_score\n",
    "import matplotlib.pyplot as plt\n",
    "import numpy as np\n",
    "\n",
    "# Set up session\n",
    "spark = SparkSession.builder.appName('nlp').getOrCreate()\n",
    "\n",
    "# Read data from the csv file\n",
    "pandas_df = pd.read_csv('spark_data.csv')\n",
    "pandas_df['review_text'] = pandas_df['review_text'].astype(str)\n",
    "df = spark.createDataFrame(pandas_df)\n",
    "df.show()"
   ]
  },
  {
   "cell_type": "markdown",
   "id": "c48d3297",
   "metadata": {},
   "source": [
    "## Preprocessing data\n",
    "- lowercase\n",
    "- remove special characters\n",
    "- fill na values"
   ]
  },
  {
   "cell_type": "code",
   "execution_count": 39,
   "id": "2ba91e1c",
   "metadata": {
    "scrolled": true
   },
   "outputs": [],
   "source": [
    "def preprocess(df, column):\n",
    "    df = df.withColumn('review_text_cleaned', lower(regexp_replace(column, '[^\\\\sa-zA-Z0-9]', '')))\n",
    "    df = df.na.fill('null')\n",
    "    return df\n",
    "    \n",
    "df = preprocess(df, 'review_text')\n",
    "\n",
    "# train test split\n",
    "trainData, testData = df.randomSplit([0.7, 0.3], seed=0)"
   ]
  },
  {
   "cell_type": "markdown",
   "id": "827936e6",
   "metadata": {},
   "source": [
    "## Perform TF-IDF"
   ]
  },
  {
   "cell_type": "code",
   "execution_count": 40,
   "id": "5e347e4f",
   "metadata": {},
   "outputs": [],
   "source": [
    "def tf_idf(df_train, df_test):\n",
    "\n",
    "    # Tokenize\n",
    "    tokenizer = Tokenizer(inputCol='review_text_cleaned', outputCol='words')\n",
    "    df_tokenized_train = tokenizer.transform(df_train)\n",
    "    df_tokenized_test = tokenizer.transform(df_test)\n",
    "    \n",
    "    # Term frequencies\n",
    "    cv = CountVectorizer(inputCol='words', outputCol='rawFeatures', vocabSize=1000)\n",
    "    cv_model = cv.fit(df_tokenized_train)\n",
    "    featurizedData_train = cv_model.transform(df_tokenized_train)\n",
    "    featurizedData_test = cv_model.transform(df_tokenized_test)\n",
    "\n",
    "    # Compute IDF vectors\n",
    "    idf = IDF(inputCol='rawFeatures', outputCol='features')\n",
    "    idfModel = idf.fit(featurizedData_train)\n",
    "    rescaled_train_temp = idfModel.transform(featurizedData_train)\n",
    "    rescaled_test_temp = idfModel.transform(featurizedData_test)\n",
    "    \n",
    "    # Save models\n",
    "    cv_model_dir = os.path.join(os.getcwd(),'cv_model')\n",
    "    idf_model_dir = os.path.join(os.getcwd(),'idf_model')\n",
    "    cv_model.write().overwrite().save(cv_model_dir)\n",
    "    idfModel.write().overwrite().save(idf_model_dir)\n",
    " \n",
    "    \n",
    "    return rescaled_train_temp, rescaled_test_temp"
   ]
  },
  {
   "cell_type": "code",
   "execution_count": 41,
   "id": "bb5a8482",
   "metadata": {
    "scrolled": true
   },
   "outputs": [],
   "source": [
    "rescaled_train, rescaled_test = tf_idf(trainData, testData)"
   ]
  },
  {
   "cell_type": "markdown",
   "id": "1469f1e2",
   "metadata": {},
   "source": [
    "## Train logistic model"
   ]
  },
  {
   "cell_type": "code",
   "execution_count": 42,
   "id": "c26ee9d1",
   "metadata": {},
   "outputs": [
    {
     "name": "stdout",
     "output_type": "stream",
     "text": [
      "+------------------------------------------+-----+----------+\n",
      "|probability                               |label|prediction|\n",
      "+------------------------------------------+-----+----------+\n",
      "|[1.4102257473662958E-132,1.0]             |1    |1.0       |\n",
      "|[0.0,1.0]                                 |1    |1.0       |\n",
      "|[9.52539862304375E-247,1.0]               |0    |1.0       |\n",
      "|[2.656921500796729E-84,1.0]               |1    |1.0       |\n",
      "|[3.0412279492517406E-71,1.0]              |1    |1.0       |\n",
      "|[0.0,1.0]                                 |1    |1.0       |\n",
      "|[2.141434476000728E-75,1.0]               |1    |1.0       |\n",
      "|[0.0,1.0]                                 |1    |1.0       |\n",
      "|[2.0210128756810398E-227,1.0]             |1    |1.0       |\n",
      "|[0.06249994668265984,0.9375000533173402]  |1    |1.0       |\n",
      "|[6.765451673985638E-30,1.0]               |1    |1.0       |\n",
      "|[2.448558409908541E-7,0.9999997551441591] |1    |1.0       |\n",
      "|[0.0,1.0]                                 |1    |1.0       |\n",
      "|[5.369810915174935E-12,0.9999999999946302]|0    |1.0       |\n",
      "|[1.334493066239039E-305,1.0]              |1    |1.0       |\n",
      "|[1.0,0.0]                                 |0    |0.0       |\n",
      "|[1.0,0.0]                                 |0    |0.0       |\n",
      "|[1.0,0.0]                                 |1    |0.0       |\n",
      "|[7.041332885075366E-117,1.0]              |1    |1.0       |\n",
      "|[1.0,0.0]                                 |0    |0.0       |\n",
      "+------------------------------------------+-----+----------+\n",
      "only showing top 20 rows\n",
      "\n"
     ]
    }
   ],
   "source": [
    "lr = LogisticRegression(featuresCol=\"features\", labelCol=\"label\")\n",
    "lrModel = lr.fit(rescaled_train)\n",
    "predictions = lrModel.transform(rescaled_test)\n",
    "predictions.select('probability', 'label', 'prediction').show(truncate=False)"
   ]
  },
  {
   "cell_type": "markdown",
   "id": "87b0180f",
   "metadata": {},
   "source": [
    "## Evaluate performance"
   ]
  },
  {
   "cell_type": "code",
   "execution_count": 43,
   "id": "991aaf65",
   "metadata": {},
   "outputs": [],
   "source": [
    "pandas_df = predictions.select('label','probability','prediction').toPandas()\n",
    "labels = pandas_df['label']\n",
    "predicted = pandas_df['prediction']\n",
    "probabilities = pandas_df['probability'].apply(lambda x: x[1])"
   ]
  },
  {
   "cell_type": "code",
   "execution_count": 47,
   "id": "bdfb8430",
   "metadata": {
    "scrolled": false
   },
   "outputs": [
    {
     "name": "stdout",
     "output_type": "stream",
     "text": [
      "AUC:  0.7806461352657004\n"
     ]
    },
    {
     "data": {
      "image/png": "[encoded data removed]",
      "text/plain": [
       "<Figure size 640x480 with 1 Axes>"
      ]
     },
     "metadata": {},
     "output_type": "display_data"
    }
   ],
   "source": [
    "# AUC/ROC\n",
    "fpr, tpr, thresholds = roc_curve(labels, probabilities)\n",
    "plt.plot(fpr, tpr)\n",
    "auc = roc_auc_score(labels, probabilities)\n",
    "plt.xlabel('False Positive Rate')\n",
    "plt.ylabel('True Positive Rate')\n",
    "plt.title('Receiver Operating Characteristic (ROC) Curve')\n",
    "print('AUC: ', auc)"
   ]
  },
  {
   "cell_type": "code",
   "execution_count": 45,
   "id": "a1982d1b",
   "metadata": {},
   "outputs": [
    {
     "name": "stdout",
     "output_type": "stream",
     "text": [
      "[[ 34  14]\n",
      " [ 26 112]]\n",
      "accuracy:  0.7849462365591398\n",
      "accuracy if all predictions are 1:  0.7419354838709677\n"
     ]
    }
   ],
   "source": [
    "# Confusion matrix and accuracy\n",
    "cm = confusion_matrix(labels, predicted)\n",
    "\n",
    "print(cm)\n",
    "accuracy = accuracy_score(labels, predicted)\n",
    "print('accuracy: ', accuracy)\n",
    "print('accuracy if all predictions are 1: ', np.mean(labels))"
   ]
  },
  {
   "cell_type": "markdown",
   "id": "c1d451f7",
   "metadata": {},
   "source": [
    "## Save logistic regression model"
   ]
  },
  {
   "cell_type": "code",
   "execution_count": 46,
   "id": "17f637d1",
   "metadata": {},
   "outputs": [],
   "source": [
    "lr_model_dir = os.path.join(os.getcwd(),'lr_model')\n",
    "lrModel.write().overwrite().save(lr_model_dir)"
   ]
  }
 ],
 "metadata": {
  "kernelspec": {
   "display_name": "Python 3 (ipykernel)",
   "language": "python",
   "name": "python3"
  },
  "language_info": {
   "codemirror_mode": {
    "name": "ipython",
    "version": 3
   },
   "file_extension": ".py",
   "mimetype": "text/x-python",
   "name": "python",
   "nbconvert_exporter": "python",
   "pygments_lexer": "ipython3",
   "version": "3.9.16"
  },
  "varInspector": {
   "cols": {
    "lenName": 16,
    "lenType": 16,
    "lenVar": 40
   },
   "kernels_config": {
    "python": {
     "delete_cmd_postfix": "",
     "delete_cmd_prefix": "del ",
     "library": "var_list.py",
     "varRefreshCmd": "print(var_dic_list())"
    },
    "r": {
     "delete_cmd_postfix": ") ",
     "delete_cmd_prefix": "rm(",
     "library": "var_list.r",
     "varRefreshCmd": "cat(var_dic_list()) "
    }
   },
   "types_to_exclude": [
    "module",
    "function",
    "builtin_function_or_method",
    "instance",
    "_Feature"
   ],
   "window_display": false
  }
 },
 "nbformat": 4,
 "nbformat_minor": 5
}
