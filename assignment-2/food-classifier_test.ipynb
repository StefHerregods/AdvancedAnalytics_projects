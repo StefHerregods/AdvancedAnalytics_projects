{
 "cells": [
  {
   "attachments": {},
   "cell_type": "markdown",
   "metadata": {},
   "source": [
    "# Test food-classifier"
   ]
  },
  {
   "cell_type": "code",
   "execution_count": 5,
   "metadata": {},
   "outputs": [],
   "source": [
    "import tensorflow as tf\n",
    "from tensorflow import keras\n",
    "from tensorflow.keras.preprocessing.image import load_img, img_to_array\n",
    "from tensorflow.keras.applications.resnet50 import preprocess_input\n",
    "import numpy as np\n",
    "import requests\n",
    "from io import BytesIO\n",
    "\n",
    "# Create labels\n",
    "labels = ['food', 'non-food']\n",
    "\n",
    "# Load the finetuned model\n",
    "model = keras.models.load_model('food-classifier_resnet50.h5')"
   ]
  },
  {
   "cell_type": "code",
   "execution_count": 9,
   "metadata": {},
   "outputs": [
    {
     "name": "stdout",
     "output_type": "stream",
     "text": [
      "1/1 [==============================] - 2s 2s/step\n",
      "non-food\n"
     ]
    }
   ],
   "source": [
    "# Enter URL to test\n",
    "url = 'https://i.pinimg.com/originals/8f/4b/25/8f4b2508e643cf8b4ebf8561fedf6325.jpg'\n",
    "\n",
    "# Download the image from the URL\n",
    "response = requests.get(url)\n",
    "img = load_img(BytesIO(response.content))\n",
    "\n",
    "# Preprocess the image\n",
    "img_array = img_to_array(img)\n",
    "img_array = preprocess_input(img_array)\n",
    "img_array = np.expand_dims(img_array, axis=0)\n",
    "\n",
    "# Make a prediction on the image\n",
    "pred = model.predict(img_array)\n",
    "pred_label = labels[np.argmax(pred)]\n",
    "print(pred_label)\n"
   ]
  }
 ],
 "metadata": {
  "kernelspec": {
   "display_name": ".virtenv2",
   "language": "python",
   "name": "python3"
  },
  "language_info": {
   "codemirror_mode": {
    "name": "ipython",
    "version": 3
   },
   "file_extension": ".py",
   "mimetype": "text/x-python",
   "name": "python",
   "nbconvert_exporter": "python",
   "pygments_lexer": "ipython3",
   "version": "3.10.10"
  },
  "orig_nbformat": 4
 },
 "nbformat": 4,
 "nbformat_minor": 2
}
