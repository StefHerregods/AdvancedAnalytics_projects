{
 "cells": [
  {
   "attachments": {},
   "cell_type": "markdown",
   "metadata": {},
   "source": [
    "# Classifying images"
   ]
  },
  {
   "cell_type": "code",
   "execution_count": 1,
   "metadata": {},
   "outputs": [],
   "source": [
    "import tensorflow as tf\n",
    "from tensorflow import keras\n",
    "from tensorflow.keras.preprocessing.image import load_img, img_to_array\n",
    "from tensorflow.keras.applications.resnet50 import preprocess_input, decode_predictions\n",
    "import numpy as np\n",
    "import pandas as pd\n",
    "import requests\n",
    "from io import BytesIO\n",
    "\n",
    "# Load the labels\n",
    "df = pd.read_csv('labels.csv')\n",
    "labels = df['cuisines'].unique().tolist()\n",
    "\n",
    "# Load the finetuned Keras model\n",
    "model = keras.models.load_model('resnet50v2_model_batch32_lr001_e2.h5')"
   ]
  },
  {
   "cell_type": "code",
   "execution_count": 3,
   "metadata": {},
   "outputs": [
    {
     "name": "stdout",
     "output_type": "stream",
     "text": [
      "1/1 [==============================] - 1s 1s/step\n",
      "Creative\n"
     ]
    }
   ],
   "source": [
    "# Ask for an input URL of an image\n",
    "# url = input(\"Enter the URL of an image: \")\n",
    "url = 'https://upload.wikimedia.org/wikipedia/commons/thumb/9/91/Pizza-3007395.jpg/1024px-Pizza-3007395.jpg'\n",
    "\n",
    "# Download the image from the URL\n",
    "response = requests.get(url)\n",
    "img = load_img(BytesIO(response.content))\n",
    "\n",
    "# Convert the image to a numpy array\n",
    "img_array = img_to_array(img)\n",
    "\n",
    "# Preprocess the image\n",
    "img_array = preprocess_input(img_array)\n",
    "\n",
    "# Add a dimension for the batch size\n",
    "img_array = np.expand_dims(img_array, axis=0)\n",
    "\n",
    "# Make a prediction on the image\n",
    "pred = model.predict(img_array)\n",
    "\n",
    "\n",
    "# Get the predicted label\n",
    "pred_label = labels[np.argmax(pred)]\n",
    "\n",
    "# Print the prediction\n",
    "print(pred_label)\n"
   ]
  }
 ],
 "metadata": {
  "kernelspec": {
   "display_name": ".virtenv2",
   "language": "python",
   "name": "python3"
  },
  "language_info": {
   "codemirror_mode": {
    "name": "ipython",
    "version": 3
   },
   "file_extension": ".py",
   "mimetype": "text/x-python",
   "name": "python",
   "nbconvert_exporter": "python",
   "pygments_lexer": "ipython3",
   "version": "3.10.10"
  },
  "orig_nbformat": 4
 },
 "nbformat": 4,
 "nbformat_minor": 2
}
