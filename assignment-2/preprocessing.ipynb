{
 "cells": [
  {
   "attachments": {},
   "cell_type": "markdown",
   "metadata": {},
   "source": [
    "# Preprocessing and labeling\n",
    "\n",
    "## Import and format data"
   ]
  },
  {
   "cell_type": "code",
   "execution_count": 1,
   "metadata": {},
   "outputs": [],
   "source": [
    "import pandas as pd\n",
    "import json\n",
    "\n",
    "# Import json file\n",
    "with open('dataset.json') as file:\n",
    "    data = json.load(file)\n",
    "\n",
    "# Convert json to pandas dataframe\n",
    "df = pd.json_normalize(data)\n",
    "\n",
    "# Split cuisines for double entries\n",
    "df['cuisines_1'] = pd.json_normalize(pd.json_normalize(df['cuisines'])[0])['label']\n",
    "df['cuisines_2'] = pd.json_normalize(pd.json_normalize(df['cuisines'])[1])['label']\n",
    "\n",
    "# Select only relevant columns\n",
    "df = df[['objectID', 'price_category.slug', 'cuisines_1', 'cuisines_2', 'more_details.full_images']].copy()\n",
    "\n",
    "# Drop rows with missing values in price_category\n",
    "df.dropna(subset=['price_category.slug'], inplace=True)\n",
    "\n",
    "# Row for each image_id\n",
    "df = df.explode('more_details.full_images')\n",
    "df.reset_index(drop=True, inplace=True)\n",
    "df['image_id'] = pd.json_normalize(df['more_details.full_images'])['image_id']\n",
    "df.dropna(subset=['image_id'], inplace=True)\n",
    "df.reset_index(drop=True, inplace=True)\n",
    "df = df[['objectID', 'image_id', 'price_category.slug', 'cuisines_1', 'cuisines_2']].copy()\n",
    "df.rename(columns={'price_category.slug': 'price_category'}, inplace=True)\n",
    "df['image_id'] = df['image_id'].astype(str)\n",
    "df['image_id'] = df['image_id'].apply(lambda x: x + '.jpg')\n",
    "\n",
    "# Load image_labels.csv\n",
    "image_labels = pd.read_csv('image_labels.csv', header=None)\n",
    "image_labels.columns = ['image_id', 'labels']\n",
    "\n",
    "# Merge image_labels with df\n",
    "df = pd.merge(df, image_labels, on='image_id', how='left')\n",
    "\n",
    "# Select only food images\n",
    "df = df[df['labels'] == 'food']"
   ]
  },
  {
   "attachments": {},
   "cell_type": "markdown",
   "metadata": {},
   "source": [
    "## Clean data\n",
    "First check all images and remove corrupted files."
   ]
  },
  {
   "cell_type": "code",
   "execution_count": 2,
   "metadata": {},
   "outputs": [
    {
     "name": "stdout",
     "output_type": "stream",
     "text": [
      "[]\n"
     ]
    }
   ],
   "source": [
    "import os\n",
    "from PIL import Image\n",
    "import numpy as np\n",
    "\n",
    "# Count number of corrupted images\n",
    "corrupted_images = []\n",
    "for image_id in df['image_id']:    \n",
    "    try:\n",
    "        img = Image.open(os.path.join('images/' + str(image_id)))\n",
    "        img.verify()\n",
    "    except:\n",
    "        corrupted_images.append(image_id)\n",
    "print(corrupted_images) # 1 corrupted image: '4215425.jpg'"
   ]
  },
  {
   "cell_type": "code",
   "execution_count": 3,
   "metadata": {},
   "outputs": [],
   "source": [
    "# Save time by skipping the above step\n",
    "corrupted_images = ['4215425.jpg']\n",
    "\n",
    "# Drop corrupted images\n",
    "df = df[df.image_id.isin(corrupted_images) == False].copy()"
   ]
  },
  {
   "attachments": {},
   "cell_type": "markdown",
   "metadata": {},
   "source": [
    "## Balance classes"
   ]
  },
  {
   "cell_type": "code",
   "execution_count": 4,
   "metadata": {},
   "outputs": [],
   "source": [
    "from imblearn.under_sampling import RandomUnderSampler\n",
    "\n",
    "rus = RandomUnderSampler(random_state=0)\n",
    "X_resampled, y_resampled = rus.fit_resample(df[['image_id', 'price_category']], df['price_category'])"
   ]
  },
  {
   "cell_type": "code",
   "execution_count": 5,
   "metadata": {},
   "outputs": [
    {
     "data": {
      "image/png": "[encoded data removed]",
      "text/plain": [
       "<Figure size 1000x500 with 1 Axes>"
      ]
     },
     "metadata": {},
     "output_type": "display_data"
    }
   ],
   "source": [
    "import matplotlib.pyplot as plt\n",
    "\n",
    "# Plot distribution of cuisines\n",
    "plt.figure(figsize=(10, 5))\n",
    "pd.Series(y_resampled).value_counts().sort_values(ascending=True).plot(kind='barh')\n",
    "plt.show()\n",
    "\n",
    "# Create balanced dataframe\n",
    "df_balanced = pd.DataFrame(X_resampled, columns=['image_id', 'price_category'])\n",
    "\n",
    "# Save balanced dataframe\n",
    "df_balanced.to_csv('labels_balanced.csv', index=False)"
   ]
  },
  {
   "attachments": {},
   "cell_type": "markdown",
   "metadata": {},
   "source": [
    "Export to csv"
   ]
  },
  {
   "cell_type": "code",
   "execution_count": 6,
   "metadata": {},
   "outputs": [],
   "source": [
    "# Create csv\n",
    "df.to_csv('labels.csv', index=False)"
   ]
  }
 ],
 "metadata": {
  "kernelspec": {
   "display_name": ".venv2",
   "language": "python",
   "name": "python3"
  },
  "language_info": {
   "codemirror_mode": {
    "name": "ipython",
    "version": 3
   },
   "file_extension": ".py",
   "mimetype": "text/x-python",
   "name": "python",
   "nbconvert_exporter": "python",
   "pygments_lexer": "ipython3",
   "version": "3.10.10"
  },
  "orig_nbformat": 4
 },
 "nbformat": 4,
 "nbformat_minor": 2
}
